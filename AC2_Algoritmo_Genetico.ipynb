{
  "cells": [
    {
      "cell_type": "markdown",
      "metadata": {
        "id": "view-in-github",
        "colab_type": "text"
      },
      "source": [
        "<a href=\"https://colab.research.google.com/github/thisanches07/Algoritmo-Genetico/blob/main/AC2_Algoritmo_Genetico.ipynb\" target=\"_parent\"><img src=\"https://colab.research.google.com/assets/colab-badge.svg\" alt=\"Open In Colab\"/></a>"
      ]
    },
    {
      "cell_type": "markdown",
      "metadata": {
        "id": "QlMMOh8Nmgf7"
      },
      "source": [
        "# <center>Centro Universitário Facens<br/></center>\n",
        "<br/>\n",
        "<font size=\"4\"><center><b>Disciplina: Inteligência Computacional</b></center></font>\n",
        "  \n",
        "<font size=\"3\"><center>Prof. Renato M. Silva</center></font>\n",
        "<br/>\n",
        "<br/>\n",
        "\n",
        "## <center>Avaliação Continuada 2 (AC2)</center>\n",
        "\n"
      ]
    },
    {
      "cell_type": "markdown",
      "metadata": {
        "id": "kcZlg0PtmggB"
      },
      "source": [
        "----\n",
        "### <center>Nome e RA dos componentes do grupo</center>\n",
        "\n",
        "    \n",
        "| Nome     |      RA      | \n",
        "|:-        |:-------------:|\n",
        "| Mateus da Silva Prado     |190477              | \n",
        "|Pedro Paulo Menezes Sasso          |190217              | \n",
        "| Thiago Sanches         |190006              | \n",
        "\n",
        "    "
      ]
    },
    {
      "cell_type": "markdown",
      "metadata": {
        "id": "8gGNZ5EnmggD"
      },
      "source": [
        "----\n",
        "### Instruções gerais\n",
        "**1**. Siga boas práticas de programação:\n",
        "- dar nomes intuitivos para as variáveis\n",
        "- dar nomes intuitivos para as funções\n",
        "\n",
        "**2**. O trabalho pode ser feito em grupos de até 3 pessoas. \n",
        " - Não é permitido que o grupo tenha pessoas de uma turma diferente da sua. \n",
        " - Caso o grupo tenha pessoas de turmas diferentes, todo o grupo receberá nota zero.\n",
        " - Apenas uma pessoa do grupo deve submeter o trabalho. \n",
        " "
      ]
    },
    {
      "cell_type": "markdown",
      "metadata": {
        "id": "-3Yn4D8gygMj"
      },
      "source": [
        "# Implementação\n",
        "\n",
        "Vocês deverão implementar a solução para um problema de regressão usando algoritmos genéticos conforme as regras descritas a seguir.\n",
        "\n",
        "---\n",
        "\n",
        "Os dados para a criação do modelo devem ser carregados a partir do arquivo `dataset.csv`\n",
        "\n",
        "As diretrizes para as etapas do algoritmo genético deverão ser implementadas como descritas a seguir:\n",
        "\n",
        "- Geração\n",
        "  - Os indivíduos devem ser carregados a partir do arquivo `individuos.csv`.\n",
        "  - Vocês deverão manter a população com 200 indivíduos.\n",
        "- Seleção\n",
        "  - A medida de performance (fitness) a ser utilizada é MAE.\n",
        "    - Para saber se a implementação está correta, o MAE para o primeiro indíviduo do arquivo disponibilizado é `52.78`.\n",
        "  - A estratégia de seleção é pegar os 50% melhores.\n",
        "- Cruzamento\n",
        "  - O cruzamento deverá acontecer entre os indíviduos ímpares e pares em ordem de melhor fitness, por exemplo, indíviduo 1 com 2, 3 com 4. Deverão ser integrados à população a combinação dos genes a e b, resultando em dois filhos para cada cruzamento. Por exemplo:\n",
        "    - Seja 2 indivíduos [3,4] e [5,6], seus filhos serão:\n",
        "      - [3,6]\n",
        "      - [5,4]\n",
        "- Mutação\n",
        "  - Você deverá avaliar o método com mutação e sem mutação, apresentando um gráfico com os resultados comparativos entre o processo com mutação e sem mutação. Você deverá escolher o percentual de chance de mutação e o percentual de mutação máxima em cada gene.\n",
        "- Voltar para seleção até totalizar 10 gerações."
      ]
    },
    {
      "cell_type": "code",
      "execution_count": 3,
      "metadata": {
        "colab": {
          "base_uri": "https://localhost:8080/"
        },
        "id": "Kev6N6icmggG",
        "outputId": "61df7602-96ee-4253-9656-4b9d82d41cfa"
      },
      "outputs": [
        {
          "output_type": "stream",
          "name": "stdout",
          "text": [
            "dados importados com sucesso\n"
          ]
        }
      ],
      "source": [
        "\n",
        "import pandas as pd\n",
        "\n",
        "df = pd.read_csv('dataset.csv')\n",
        "individuos = pd.read_csv('individuos.csv')\n",
        "print('dados importados com sucesso')\n",
        "\n"
      ]
    },
    {
      "cell_type": "code",
      "source": [
        "individuos"
      ],
      "metadata": {
        "id": "VTOCkFloNQUQ"
      },
      "execution_count": null,
      "outputs": []
    },
    {
      "cell_type": "code",
      "source": [
        "from numpy.core.fromnumeric import mean\n",
        "from sklearn.datasets import make_classification\n",
        "from sklearn.model_selection import train_test_split\n",
        "import numpy as np\n",
        "import pandas as pd\n",
        "import random\n",
        "import matplotlib.pyplot as plt\n",
        "\n",
        "\n",
        "X = df['x']\n",
        "y = df['y']\n",
        "\n",
        "tamanho_populacao = 200\n",
        "num_generations = 20\n",
        "gen_errors = []\n",
        "mean_errors = []\n",
        "\n",
        "def fitness(individual):\n",
        "    a, b = individual\n",
        "    Y_pred = a*X + b\n",
        "    mae = np.mean(np.abs(y - Y_pred))\n",
        "    \n",
        "    gen_errors.append(mae)\n",
        "    # if(a == 12 and b ==16):\n",
        "    #   print('mae = ',mae, ' a=',a,' b=',b)\n",
        "    return 1/mae\n",
        "\n",
        "# coloca valores de a e b em um array\n",
        "populacao = [(row['a'], row['b']) for index, row in individuos.iterrows()]\n",
        "\n",
        "\n",
        "for generation in range(num_generations):\n",
        "    # Avalia cada indivíduo na população atraves do MAE\n",
        "    fitness_values = [fitness(individual) for individual in populacao]\n",
        "    mean_errors.append(mean(gen_errors))\n",
        "    \n",
        "    \n",
        "    # Seleciona os melhores indivíduos para cruzamento, ordena a população pelo desempenho dos indivíduos (fitness) em ordem decrescente\n",
        "    populacao_ordenada = sorted(populacao, key=fitness, reverse=True)\n",
        "\n",
        "    populacao_selecionada = populacao_ordenada[:tamanho_populacao//2]\n",
        "\n",
        "\n",
        "    # Aplica crossover e mutação para gerar novos indivíduos\n",
        "    new_population = []\n",
        "    for i in range(0, len(populacao_selecionada), 2):\n",
        "      tupla1 = populacao_selecionada[i]\n",
        "      tupla2 = populacao_selecionada[i+1]\n",
        "\n",
        "      new_population.append(tuple((tupla1[0],tupla2[1])))\n",
        "      new_population.append(tuple((tupla2[0],tupla1[1])))\n",
        "    populacao = populacao_selecionada + new_population\n",
        "\n",
        "\n",
        "print(populacao[:3])\n",
        "\n",
        "print(mean_errors[-1])\n",
        "\n",
        "plt.plot(range(1,num_generations+1), mean_errors)\n",
        "\n",
        "plt.ylim(0,50)\n",
        "\n",
        "plt.show()\n",
        "\n"
      ],
      "metadata": {
        "colab": {
          "base_uri": "https://localhost:8080/",
          "height": 470
        },
        "id": "bmzMQq2QMaJl",
        "outputId": "0c1b90c7-b72e-4b48-cd56-eed918039988"
      },
      "execution_count": 80,
      "outputs": [
        {
          "output_type": "stream",
          "name": "stdout",
          "text": [
            "[(28, 7), (28, 7), (28, 7)]\n",
            "6.304539945981138\n"
          ]
        },
        {
          "output_type": "display_data",
          "data": {
            "text/plain": [
              "<Figure size 640x480 with 1 Axes>"
            ],
            "image/png": "[encoded data removed]"
          },
          "metadata": {}
        }
      ]
    },
    {
      "cell_type": "code",
      "source": [
        "import random\n",
        "\n",
        "mutation_rate = 0.25\n",
        "gen_errors = []\n",
        "mean_errors = []\n",
        "\n",
        "print(mean_errors)\n",
        "\n",
        "def fitness(individual):\n",
        "    a, b = individual\n",
        "    Y_pred = a*X + b\n",
        "    mae = np.mean(np.abs(y - Y_pred))\n",
        "    \n",
        "    gen_errors.append(mae)\n",
        "    # if(a == 12 and b ==16):\n",
        "    #   print('mae = ',mae, ' a=',a,' b=',b)\n",
        "    return 1/mae\n",
        "\n",
        "# coloca valores de a e b em um array\n",
        "populacao = [(row['a'], row['b']) for index, row in individuos.iterrows()]\n",
        "\n",
        "\n",
        "for generation in range(num_generations):\n",
        "    # Avalia cada indivíduo na população atraves do MAE\n",
        "    fitness_values = [fitness(individual) for individual in populacao]\n",
        "    mean_errors.append(mean(gen_errors))\n",
        "    \n",
        "    # Seleciona os melhores indivíduos para cruzamento, ordena a população pelo desempenho dos indivíduos (fitness) em ordem decrescente\n",
        "    populacao_ordenada = sorted(populacao, key=fitness, reverse=True)\n",
        "\n",
        "    populacao_selecionada = populacao_ordenada[:tamanho_populacao//2]\n",
        "\n",
        "\n",
        "    # Aplica crossover e mutação para gerar novos indivíduos\n",
        "    new_population = []\n",
        "    for i in range(0, len(populacao_selecionada), 2):\n",
        "      tupla1 = populacao_selecionada[i]\n",
        "      tupla2 = populacao_selecionada[i+1]\n",
        "\n",
        "\n",
        "      if random.random() < mutation_rate:\n",
        "            tupla1 = (abs(tupla1[0] + random.uniform(-100, 100)), abs(tupla1[1] + random.uniform(-100, 100))) # mutação aleatória\n",
        "          \n",
        "\n",
        "      if random.random() < mutation_rate:\n",
        "            tupla2 = (abs(tupla2[0] + random.uniform(-100, 100)), abs(tupla2[1] + random.uniform(-100, 100))) # mutação aleatória\n",
        "           \n",
        "\n",
        "      new_population.append(tuple((tupla1[0],tupla2[1])))\n",
        "      new_population.append(tuple((tupla2[0],tupla1[1])))\n",
        "    populacao = populacao_selecionada + new_population\n",
        "\n",
        "print(\"Us mio \",populacao[:3])\n",
        "print(\"Us pió\",populacao[-3:])\n",
        "print(mean_errors[-1])\n",
        "\n",
        "plt.plot(range(1,num_generations+1), mean_errors)\n",
        "\n",
        "plt.ylim(0,50)\n",
        "\n",
        "plt.show()"
      ],
      "metadata": {
        "colab": {
          "base_uri": "https://localhost:8080/",
          "height": 504
        },
        "id": "8wCxP0nEIoV-",
        "outputId": "2140af82-acf5-45ba-afe6-566c6053714b"
      },
      "execution_count": 83,
      "outputs": [
        {
          "output_type": "stream",
          "name": "stdout",
          "text": [
            "[]\n",
            "Us mio  [(28.966509671756135, 7), (29.536430957939473, 7.279001639376887), (29.536430957939473, 7)]\n",
            "Us pió [(29.536430957939473, 57.04036036336876), (29.536430957939473, 7), (29.536430957939473, 7)]\n",
            "13.851500343042973\n"
          ]
        },
        {
          "output_type": "display_data",
          "data": {
            "text/plain": [
              "<Figure size 640x480 with 1 Axes>"
            ],
            "image/png": "[encoded data removed]"
          },
          "metadata": {}
        }
      ]
    }
  ],
  "metadata": {
    "colab": {
      "provenance": [],
      "include_colab_link": true
    },
    "kernelspec": {
      "display_name": "Python 3 (ipykernel)",
      "language": "python",
      "name": "python3"
    },
    "language_info": {
      "codemirror_mode": {
        "name": "ipython",
        "version": 3
      },
      "file_extension": ".py",
      "mimetype": "text/x-python",
      "name": "python",
      "nbconvert_exporter": "python",
      "pygments_lexer": "ipython3",
      "version": "3.9.13"
    }
  },
  "nbformat": 4,
  "nbformat_minor": 0
}