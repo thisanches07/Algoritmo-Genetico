{
  "cells": [
    {
      "cell_type": "markdown",
      "metadata": {
        "id": "QlMMOh8Nmgf7"
      },
      "source": [
        "# <center>Centro Universitário Facens<br/></center>\n",
        "<br/>\n",
        "<font size=\"4\"><center><b>Disciplina: Inteligência Computacional</b></center></font>\n",
        "  \n",
        "<font size=\"3\"><center>Prof. Renato M. Silva</center></font>\n",
        "<br/>\n",
        "<br/>\n",
        "\n",
        "## <center>Avaliação Continuada 2 (AC2)</center>\n",
        "\n"
      ]
    },
    {
      "cell_type": "markdown",
      "metadata": {
        "id": "kcZlg0PtmggB"
      },
      "source": [
        "----\n",
        "### <center>Nome e RA dos componentes do grupo</center>\n",
        "\n",
        "    \n",
        "| Nome     |      RA      | \n",
        "|:-        |:-------------:|\n",
        "|          |              | \n",
        "|          |              | \n",
        "|          |              | \n",
        "\n",
        "    "
      ]
    },
    {
      "cell_type": "markdown",
      "metadata": {
        "id": "8gGNZ5EnmggD"
      },
      "source": [
        "----\n",
        "### Instruções gerais\n",
        "**1**. Siga boas práticas de programação:\n",
        "- dar nomes intuitivos para as variáveis\n",
        "- dar nomes intuitivos para as funções\n",
        "\n",
        "**2**. O trabalho pode ser feito em grupos de até 3 pessoas. \n",
        " - Não é permitido que o grupo tenha pessoas de uma turma diferente da sua. \n",
        " - Caso o grupo tenha pessoas de turmas diferentes, todo o grupo receberá nota zero.\n",
        " - Apenas uma pessoa do grupo deve submeter o trabalho. \n",
        " "
      ]
    },
    {
      "cell_type": "markdown",
      "metadata": {
        "id": "-3Yn4D8gygMj"
      },
      "source": [
        "# Implementação\n",
        "\n",
        "Vocês deverão implementar a solução para um problema de regressão usando algoritmos genéticos conforme as regras descritas a seguir.\n",
        "\n",
        "---\n",
        "\n",
        "Os dados para a criação do modelo devem ser carregados a partir do arquivo `dataset.csv`\n",
        "\n",
        "As diretrizes para as etapas do algoritmo genético deverão ser implementadas como descritas a seguir:\n",
        "\n",
        "- Geração\n",
        "  - Os indivíduos devem ser carregados a partir do arquivo `individuos.csv`.\n",
        "  - Vocês deverão manter a população com 200 indivíduos.\n",
        "- Seleção\n",
        "  - A medida de performance (fitness) a ser utilizada é MAE.\n",
        "    - Para saber se a implementação está correta, o MAE para o primeiro indíviduo do arquivo disponibilizado é `52.78`.\n",
        "  - A estratégia de seleção é pegar os 50% melhores.\n",
        "- Cruzamento\n",
        "  - O cruzamento deverá acontecer entre os indíviduos ímpares e pares em ordem de melhor fitness, por exemplo, indíviduo 1 com 2, 3 com 4. Deverão ser integrados à população a combinação dos genes a e b, resultando em dois filhos para cada cruzamento. Por exemplo:\n",
        "    - Seja 2 indivíduos [3,4] e [5,6], seus filhos serão:\n",
        "      - [3,6]\n",
        "      - [5,4]\n",
        "- Mutação\n",
        "  - Você deverá avaliar o método com mutação e sem mutação, apresentando um gráfico com os resultados comparativos entre o processo com mutação e sem mutação. Você deverá escolher o percentual de chance de mutação e o percentual de mutação máxima em cada gene.\n",
        "- Voltar para seleção até totalizar 10 gerações."
      ]
    },
    {
      "cell_type": "code",
      "execution_count": null,
      "metadata": {
        "colab": {
          "base_uri": "https://localhost:8080/"
        },
        "id": "Kev6N6icmggG",
        "outputId": "9a79b3ed-5bc5-4fdf-845c-e900ae62cf8c"
      },
      "outputs": [
        {
          "output_type": "stream",
          "name": "stdout",
          "text": [
            "dados importados com sucesso\n"
          ]
        }
      ],
      "source": [
        "\n",
        "import pandas as pd\n",
        "\n",
        "df = pd.read_csv('dataset.csv')\n",
        "print('dados importados com sucesso')"
      ]
    }
  ],
  "metadata": {
    "colab": {
      "provenance": []
    },
    "kernelspec": {
      "display_name": "Python 3 (ipykernel)",
      "language": "python",
      "name": "python3"
    },
    "language_info": {
      "codemirror_mode": {
        "name": "ipython",
        "version": 3
      },
      "file_extension": ".py",
      "mimetype": "text/x-python",
      "name": "python",
      "nbconvert_exporter": "python",
      "pygments_lexer": "ipython3",
      "version": "3.9.13"
    }
  },
  "nbformat": 4,
  "nbformat_minor": 0
}